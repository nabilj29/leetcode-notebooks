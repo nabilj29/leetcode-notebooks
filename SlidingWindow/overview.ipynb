{
 "cells": [
  {
   "cell_type": "markdown",
   "metadata": {},
   "source": [
    "# Sliding Window"
   ]
  },
  {
   "cell_type": "markdown",
   "metadata": {},
   "source": [
    "variable length sliding windows.\n",
    "\n",
    "write a function to calc, max num of fruits u can collect from an array fruits.<br>\n",
    "Where each element represents a type of fruit.<br>\n",
    "You can start collecting fruits from any position in the array, but must stop when encounter a third distinct type of fruit. <br>\n",
    "The goal is to find lingest subarray where at most 2 diff types of fruits are collected. <br>\n",
    "<br>\n",
    "Example:<br>\n",
    "Input: fruits = [3, 3, 2, 1, 2, 1, 0]<br>\n",
    "Output: 4<br>\n",
    "Explanation: We can pick up 4 fruit from the subarray [2, 1, 2, 1]<br>"
   ]
  },
  {
   "cell_type": "markdown",
   "metadata": {},
   "source": [
    "brute force: consider every possible subarray."
   ]
  },
  {
   "cell_type": "markdown",
   "metadata": {},
   "source": [
    "def fruit_into_baskets(fruits):\n"
   ]
  },
  {
   "cell_type": "code",
   "execution_count": null,
   "metadata": {},
   "outputs": [],
   "source": [
    "def fruit_into_baskets(fruits):\n",
    "    start = 0\n",
    "    state = {}\n",
    "    max_fruit = 0\n",
    "\n",
    "    for end in range(len(fruits)):\n",
    "        state[fruits[end]] = state.get(fruits[end], 0) + 1\n",
    "\n",
    "        while len(state) > 2:\n",
    "            state[fruits[start]] -= 1\n",
    "            if state[fruits[start]] == 0:\n",
    "                del state[fruits[start]]\n",
    "            start += 1\n",
    "\n",
    "        max_fruit = max(max_fruit, end - start + 1)\n",
    "    return max_fruit"
   ]
  },
  {
   "cell_type": "markdown",
   "metadata": {},
   "source": [
    "so how this code works in my words:\n",
    "\n",
    "goal, you want largest window (max number of fruits), without exceding 2 different types of fruits.\n",
    "\n",
    "start pointer (at 0)\n",
    "state dict, to keep track of the current fruits in the window\n",
    "\n",
    "essentially how it solves it is, make the right window larger, then once it exceeds, start shrinking from the left side until it meets requirements. Then repeat this process. During this process, keep track of the max number of fruits, based on start and end index and compare to a global max_fruit variable. "
   ]
  },
  {
   "cell_type": "code",
   "execution_count": 1,
   "metadata": {},
   "outputs": [],
   "source": [
    "##template:\n",
    "\n",
    "def variable_length_sliding_window(nums):\n",
    "    state = 0 ## choose appropriate data structure\n",
    "    start = 0\n",
    "    max_ = 0\n",
    "\n",
    "    for end in range(len(nums)):\n",
    "        #extend window\n",
    "        #add nums[end] to state in O(1) in time\n",
    "\n",
    "        while state is not valid:\n",
    "            ## repeadtedly contract window until it is valid again\n",
    "            # remove nums[start] from state in 0(1) in time\n",
    "            start +=1 \n",
    "        \n",
    "        ##INVARIANT: state of current window is valid her\n",
    "        max_ = max(max_, end - start + 1)\n",
    "    \n",
    "    return max_"
   ]
  },
  {
   "cell_type": "code",
   "execution_count": 2,
   "metadata": {},
   "outputs": [
    {
     "name": "stdout",
     "output_type": "stream",
     "text": [
      "substring\n"
     ]
    }
   ],
   "source": [
    "str = \"substring\"\n",
    "print(str)"
   ]
  },
  {
   "cell_type": "code",
   "execution_count": 7,
   "metadata": {},
   "outputs": [
    {
     "name": "stdout",
     "output_type": "stream",
     "text": [
      "s\n"
     ]
    }
   ],
   "source": [
    "print(str[:1])"
   ]
  },
  {
   "cell_type": "code",
   "execution_count": null,
   "metadata": {},
   "outputs": [],
   "source": [
    "#Fixed length sliding window\n",
    "#- when you know the length of the subsequence\n",
    "\n",
    "#example: given array of integers nums and an integer k, find the maximum sum of any contiguous subarray of size k.\n",
    "\n",
    "def max_subarray_sum(nums, k):\n",
    "    max_sum = 0\n",
    "    state = 0\n",
    "    start = 0\n",
    "\n",
    "    for end in range(len(nums)):\n",
    "        state += nums[end]\n",
    "\n",
    "        if end - start +1 == k: ##if max window size has been reached\n",
    "            max_sum = max(max_sum, state) # state keeps track of the sum of the current window\n",
    "            state -= nums[start]\n",
    "            start += 1\n",
    "        \n",
    "    \n",
    "    return max_sum\n"
   ]
  },
  {
   "cell_type": "code",
   "execution_count": null,
   "metadata": {},
   "outputs": [],
   "source": [
    "#template:\n",
    "\n",
    "def fixed_length_sliding_window(nums, k):\n",
    "    state = 0#choose appropriate date structure\n",
    "    start = 0\n",
    "    max_ = 0\n",
    "\n",
    "    for end in range(len(nums)):\n",
    "        #extend window\n",
    "        #add nums[end] to state in o(1) time\n",
    "\n",
    "        if end - start + 1 == k:\n",
    "            ##invariant: size of the window is k here.\n",
    "            max_ = max(max_, state) #contents of state\n",
    "\n",
    "            #contract window\n",
    "            # remove nums[start] from state in O(1) in time\n",
    "            start +=1 \n",
    "    return max_\n"
   ]
  },
  {
   "cell_type": "code",
   "execution_count": null,
   "metadata": {},
   "outputs": [],
   "source": []
  }
 ],
 "metadata": {
  "kernelspec": {
   "display_name": "3s03-stats",
   "language": "python",
   "name": "python3"
  },
  "language_info": {
   "codemirror_mode": {
    "name": "ipython",
    "version": 3
   },
   "file_extension": ".py",
   "mimetype": "text/x-python",
   "name": "python",
   "nbconvert_exporter": "python",
   "pygments_lexer": "ipython3",
   "version": "3.13.1"
  }
 },
 "nbformat": 4,
 "nbformat_minor": 2
}
