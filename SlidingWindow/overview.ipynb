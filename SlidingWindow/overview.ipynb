{
 "cells": [
  {
   "cell_type": "markdown",
   "metadata": {},
   "source": [
    "# Sliding Window"
   ]
  },
  {
   "cell_type": "markdown",
   "metadata": {},
   "source": [
    "variable length sliding windows.\n",
    "\n",
    "write a function to calc, max num of fruits u can collect from an array fruits.<br>\n",
    "Where each element represents a type of fruit.<br>\n",
    "You can start collecting fruits from any position in the array, but must stop when encounter a third distinct type of fruit. <br>\n",
    "The goal is to find lingest subarray where at most 2 diff types of fruits are collected. <br>\n",
    "<br>\n",
    "Example:<br>\n",
    "Input: fruits = [3, 3, 2, 1, 2, 1, 0]<br>\n",
    "Output: 4<br>\n",
    "Explanation: We can pick up 4 fruit from the subarray [2, 1, 2, 1]<br>"
   ]
  },
  {
   "cell_type": "markdown",
   "metadata": {},
   "source": [
    "brute force: consider every possible subarray."
   ]
  },
  {
   "cell_type": "markdown",
   "metadata": {},
   "source": []
  }
 ],
 "metadata": {
  "language_info": {
   "name": "python"
  }
 },
 "nbformat": 4,
 "nbformat_minor": 2
}
