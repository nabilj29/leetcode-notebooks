{
 "cells": [
  {
   "cell_type": "code",
   "execution_count": 1,
   "metadata": {},
   "outputs": [],
   "source": [
    "def max_area(heights):\n",
    "    left, right = 0, len(heights)-1\n",
    "    maxarea = 0\n",
    "\n",
    "    while left < right:\n",
    "        w = right - left\n",
    "        h = min(heights[right], heights)\n",
    "\n",
    "        curr = w * h\n",
    "        maxarea = max(maxarea, curr)\n",
    "\n",
    "        if heights[left] < heights[right]:\n",
    "            left+=1\n",
    "        else:\n",
    "            right-=1\n",
    "    \n",
    "    return maxarea"
   ]
  },
  {
   "cell_type": "code",
   "execution_count": null,
   "metadata": {},
   "outputs": [],
   "source": []
  }
 ],
 "metadata": {
  "kernelspec": {
   "display_name": "3s03-stats",
   "language": "python",
   "name": "python3"
  },
  "language_info": {
   "codemirror_mode": {
    "name": "ipython",
    "version": 3
   },
   "file_extension": ".py",
   "mimetype": "text/x-python",
   "name": "python",
   "nbconvert_exporter": "python",
   "pygments_lexer": "ipython3",
   "version": "3.13.1"
  }
 },
 "nbformat": 4,
 "nbformat_minor": 2
}
