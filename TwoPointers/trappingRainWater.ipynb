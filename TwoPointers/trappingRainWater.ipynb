{
 "cells": [
  {
   "cell_type": "markdown",
   "metadata": {},
   "source": [
    "trap rain water, there must be higher bars on both the left and right sides of the index.\n",
    "\n",
    "To calculate the exact amount of water that can be trapped at specific index \n",
    " * we take the min height of the highest bars to the left and right of it\n",
    " * then subtract the height of the bar at the index \n",
    "\n",
    "So in theory if we knew the max heights to the left and right of each index we can calc how much can be trapped"
   ]
  },
  {
   "cell_type": "markdown",
   "metadata": {},
   "source": [
    "Don't need to know the exact height of both the highest bars to the left and right of each idex.\n",
    "\n",
    "Example: highest bar to the right of index 7 with height 0 has a heght of 2. \n",
    "\n",
    "If we also knew that there exists a higher bar than 2 anywhere to the left of index 7, then we also know\n",
    "that the minimum height of ehe highest bars to the left and right of index 7 is 2. \n",
    "therefore can calculate the amount of water trapped at 7 which is 2.\n",
    "\n",
    "thus using 2 pointer approach, keeping track of left max and right max"
   ]
  },
  {
   "cell_type": "code",
   "execution_count": null,
   "metadata": {},
   "outputs": [],
   "source": [
    "def trappingWater(heights):\n",
    "    if not heights:\n",
    "        return 0\n",
    "    left, right = 0, len(heights) -1\n",
    "    leftMax, rightMax = heights[left], heights[right]\n",
    "    count = 0\n",
    "\n",
    "    while left < right:\n",
    "        if leftMax < rightMax:\n",
    "            left += 1\n",
    "            if heights[left] >= leftMax:\n",
    "                leftMax = heights[left]\n",
    "            else:\n",
    "                count += leftMax - heights[left]\n",
    "        else:\n",
    "            right -= 1\n",
    "            if heights[right] >= rightMax:\n",
    "                rightMax = heights[right]\n",
    "            else:\n",
    "                count += rightMax - heights[right]\n",
    "    return count "
   ]
  },
  {
   "cell_type": "code",
   "execution_count": null,
   "metadata": {},
   "outputs": [],
   "source": []
  }
 ],
 "metadata": {
  "kernelspec": {
   "display_name": "3s03-stats",
   "language": "python",
   "name": "python3"
  },
  "language_info": {
   "name": "python",
   "version": "3.13.1"
  }
 },
 "nbformat": 4,
 "nbformat_minor": 2
}
