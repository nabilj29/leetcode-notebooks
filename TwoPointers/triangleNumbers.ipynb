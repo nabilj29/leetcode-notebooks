{
 "cells": [
  {
   "cell_type": "code",
   "execution_count": null,
   "metadata": {},
   "outputs": [
    {
     "name": "stdout",
     "output_type": "stream",
     "text": [
      "hello\n"
     ]
    }
   ],
   "source": [
    "##write a funciton to count the number of triplets in an interger array that could form the sides of a trianlge. not unique\n",
    "\n",
    "#in order for a triplet to be valid lengths, the sum of any two sides must be greater than the third side. \n",
    "\n"
   ]
  },
  {
   "cell_type": "code",
   "execution_count": null,
   "metadata": {},
   "outputs": [],
   "source": [
    "def triangleNumer(nums):\n",
    "    nums.sort()\n",
    "\n",
    "    count = 0\n",
    "\n",
    "    for i in range(len(nums)-1, 1, -1):\n",
    "        left = 0\n",
    "        right = i-1\n",
    "        while left < right:\n",
    "            if nums[left] + nums[right] > nums[i]:\n",
    "                count += right - left\n",
    "                right -= 1\n",
    "            else:\n",
    "                left +=1 \n",
    "    return count "
   ]
  }
 ],
 "metadata": {
  "kernelspec": {
   "display_name": "3s03-stats",
   "language": "python",
   "name": "python3"
  },
  "language_info": {
   "codemirror_mode": {
    "name": "ipython",
    "version": 3
   },
   "file_extension": ".py",
   "mimetype": "text/x-python",
   "name": "python",
   "nbconvert_exporter": "python",
   "pygments_lexer": "ipython3",
   "version": "3.13.1"
  }
 },
 "nbformat": 4,
 "nbformat_minor": 2
}
